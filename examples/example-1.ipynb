{
 "cells": [
  {
   "cell_type": "code",
   "execution_count": 1,
   "id": "8a07dca7",
   "metadata": {},
   "outputs": [],
   "source": [
    "%load_ext autoreload\n",
    "%autoreload 2"
   ]
  },
  {
   "cell_type": "code",
   "execution_count": 2,
   "id": "09145b17",
   "metadata": {},
   "outputs": [],
   "source": [
    "from fhan.client import Client\n",
    "from fhirmodels.R4 import Patient"
   ]
  },
  {
   "cell_type": "code",
   "execution_count": 3,
   "id": "99399ee7",
   "metadata": {},
   "outputs": [
    {
     "name": "stdout",
     "output_type": "stream",
     "text": [
      "{'event': 'GET request to https://demo.kodjin.com/fhir returned status code 404.', 'level': 'info', 'timestamp': '2024-08-21T13:30:24.697658Z'}\n"
     ]
    }
   ],
   "source": [
    "client = Client(\"https://demo.kodjin.com/fhir\", authenticate=False)"
   ]
  },
  {
   "cell_type": "markdown",
   "id": "f0239535",
   "metadata": {},
   "source": [
    "# Get Resources"
   ]
  },
  {
   "cell_type": "code",
   "execution_count": 4,
   "id": "ad1f952c",
   "metadata": {},
   "outputs": [
    {
     "data": {
      "text/plain": [
       "{'active': True,\n",
       " 'address': [{'city': 'Kyiv'}],\n",
       " 'birthDate': '2005-07-09',\n",
       " 'communication': [{'language': {'coding': [{'code': 'FR',\n",
       "      'system': 'http://example/languages'}]}},\n",
       "  {'language': {'coding': [{'code': 'NL',\n",
       "      'system': 'http://example/languages'}]}}],\n",
       " 'gender': 'male',\n",
       " 'meta': {'profile': ['http://hl7.org/fhir/StructureDefinition/Patient'],\n",
       "  'security': [{'code': 'R',\n",
       "    'system': 'http://terminology.hl7.org/CodeSystem/v3-Confidentiality'}],\n",
       "  'source': 'kodjin_ui',\n",
       "  'tag': [{'code': 'Kodjin_UI'}, {'code': 'Kodjin_UI'}],\n",
       "  'versionId': '4',\n",
       "  'lastUpdated': '2024-08-20T10:41:54.827080857+00:00'},\n",
       " 'name': [{'family': 'Davis',\n",
       "   'given': ['Sean'],\n",
       "   'text': 'Sean Davis',\n",
       "   'use': 'official'}],\n",
       " 'resourceType': 'Patient',\n",
       " 'telecom': [{'system': 'email', 'use': 'work', 'value': 'patient@email.com'},\n",
       "  {'system': 'phone', 'use': 'work', 'value': '050-445-97'}],\n",
       " 'id': '9b39db40-e94b-4cfc-8809-8fdc52aada17',\n",
       " 'identifier': [{'use': 'official',\n",
       "   'type': {'coding': [{'system': 'http://fhir.de/CodeSystem/identifier-type-de-basis',\n",
       "      'code': 'GKV'}]},\n",
       "   'system': 'http://fhir.au/sid/barmer/kvid-10',\n",
       "   'value': 'J089633009'}]}"
      ]
     },
     "execution_count": 4,
     "metadata": {},
     "output_type": "execute_result"
    }
   ],
   "source": [
    "# by id\n",
    "client.get(\"Patient\", id=\"9b39db40-e94b-4cfc-8809-8fdc52aada17\")"
   ]
  },
  {
   "cell_type": "code",
   "execution_count": 6,
   "id": "95df36f3",
   "metadata": {},
   "outputs": [
    {
     "data": {
      "text/plain": [
       "{'resourceType': 'Bundle',\n",
       " 'type': 'searchset',\n",
       " 'entry': [{'fullUrl': 'https://demo.kodjin.com/fhir/Patient/9b39db40-e94b-4cfc-8809-8fdc52aada17',\n",
       "   'resource': {'active': True,\n",
       "    'address': [{'city': 'Kyiv'}],\n",
       "    'birthDate': '2005-07-09',\n",
       "    'communication': [{'language': {'coding': [{'code': 'FR',\n",
       "         'system': 'http://example/languages'}]}},\n",
       "     {'language': {'coding': [{'code': 'NL',\n",
       "         'system': 'http://example/languages'}]}}],\n",
       "    'gender': 'male',\n",
       "    'meta': {'profile': ['http://hl7.org/fhir/StructureDefinition/Patient'],\n",
       "     'security': [{'code': 'R',\n",
       "       'system': 'http://terminology.hl7.org/CodeSystem/v3-Confidentiality'}],\n",
       "     'source': 'kodjin_ui',\n",
       "     'tag': [{'code': 'Kodjin_UI'}, {'code': 'Kodjin_UI'}],\n",
       "     'versionId': '4',\n",
       "     'lastUpdated': '2024-08-20T10:41:54.827080857+00:00'},\n",
       "    'name': [{'family': 'Davis',\n",
       "      'given': ['Sean'],\n",
       "      'text': 'Sean Davis',\n",
       "      'use': 'official'}],\n",
       "    'resourceType': 'Patient',\n",
       "    'telecom': [{'system': 'email',\n",
       "      'use': 'work',\n",
       "      'value': 'patient@email.com'},\n",
       "     {'system': 'phone', 'use': 'work', 'value': '050-445-97'}],\n",
       "    'id': '9b39db40-e94b-4cfc-8809-8fdc52aada17',\n",
       "    'identifier': [{'use': 'official',\n",
       "      'type': {'coding': [{'system': 'http://fhir.de/CodeSystem/identifier-type-de-basis',\n",
       "         'code': 'GKV'}]},\n",
       "      'system': 'http://fhir.au/sid/barmer/kvid-10',\n",
       "      'value': 'J089633009'}]},\n",
       "   'search': {'mode': 'match'}}],\n",
       " 'link': [{'relation': 'self',\n",
       "   'url': 'https://demo.kodjin.com/fhir/Patient?_count=20&_sort=-inserted_at,id&_id=9b39db40-e94b-4cfc-8809-8fdc52aada17'},\n",
       "  {'relation': 'first',\n",
       "   'url': 'https://demo.kodjin.com/fhir/Patient?_count=20&_sort=-inserted_at,id&_id=9b39db40-e94b-4cfc-8809-8fdc52aada17'}]}"
      ]
     },
     "execution_count": 6,
     "metadata": {},
     "output_type": "execute_result"
    }
   ],
   "source": [
    "# by search\n",
    "client.get(\"Patient\", search_params={\"_id\": \"9b39db40-e94b-4cfc-8809-8fdc52aada17\"})"
   ]
  },
  {
   "cell_type": "code",
   "execution_count": 16,
   "id": "7fb27b941602401d91542211134fc71a",
   "metadata": {},
   "outputs": [
    {
     "data": {
      "text/plain": [
       "{'resourceType': 'Bundle',\n",
       " 'type': 'searchset',\n",
       " 'entry': [{'fullUrl': 'https://demo.kodjin.com/fhir/Patient/9b39db40-e94b-4cfc-8809-8fdc52aada17',\n",
       "   'resource': {'active': True,\n",
       "    'address': [{'city': 'Kyiv'}],\n",
       "    'birthDate': '2005-07-09',\n",
       "    'communication': [{'language': {'coding': [{'code': 'FR',\n",
       "         'system': 'http://example/languages'}]}},\n",
       "     {'language': {'coding': [{'code': 'NL',\n",
       "         'system': 'http://example/languages'}]}}],\n",
       "    'gender': 'male',\n",
       "    'meta': {'profile': ['http://hl7.org/fhir/StructureDefinition/Patient'],\n",
       "     'security': [{'code': 'R',\n",
       "       'system': 'http://terminology.hl7.org/CodeSystem/v3-Confidentiality'}],\n",
       "     'source': 'kodjin_ui',\n",
       "     'tag': [{'code': 'Kodjin_UI'}, {'code': 'Kodjin_UI'}],\n",
       "     'versionId': '4',\n",
       "     'lastUpdated': '2024-08-20T10:41:54.827080857+00:00'},\n",
       "    'name': [{'family': 'Davis',\n",
       "      'given': ['Sean'],\n",
       "      'text': 'Sean Davis',\n",
       "      'use': 'official'}],\n",
       "    'resourceType': 'Patient',\n",
       "    'telecom': [{'system': 'email',\n",
       "      'use': 'work',\n",
       "      'value': 'patient@email.com'},\n",
       "     {'system': 'phone', 'use': 'work', 'value': '050-445-97'}],\n",
       "    'id': '9b39db40-e94b-4cfc-8809-8fdc52aada17',\n",
       "    'identifier': [{'use': 'official',\n",
       "      'type': {'coding': [{'system': 'http://fhir.de/CodeSystem/identifier-type-de-basis',\n",
       "         'code': 'GKV'}]},\n",
       "      'system': 'http://fhir.au/sid/barmer/kvid-10',\n",
       "      'value': 'J089633009'}]},\n",
       "   'search': {'mode': 'match'}},\n",
       "  {'fullUrl': 'https://demo.kodjin.com/fhir/Patient/6ac7930f-40e4-42d3-be61-c06efdfe8d9d',\n",
       "   'resource': {'resourceType': 'Patient',\n",
       "    'extension': [{'url': 'http://hl7.org/fhir/us/core/StructureDefinition/us-core-race',\n",
       "      'extension': [{'url': 'ombCategory',\n",
       "        'valueCoding': {'system': 'urn:oid:2.16.840.1.113883.6.238',\n",
       "         'code': '2106-3',\n",
       "         'display': 'White'}},\n",
       "       {'url': 'text', 'valueString': 'us-core-race'}]}],\n",
       "    'name': [{'family': 'Smith', 'given': ['John']}],\n",
       "    'id': '6ac7930f-40e4-42d3-be61-c06efdfe8d9d',\n",
       "    'meta': {'versionId': '1',\n",
       "     'lastUpdated': '2024-08-14T13:30:31.998688146+00:00'}},\n",
       "   'search': {'mode': 'match'}}],\n",
       " 'link': [{'relation': 'self',\n",
       "   'url': 'https://demo.kodjin.com/fhir/Patient?_count=20&_sort=-inserted_at,id&_id=9b39db40-e94b-4cfc-8809-8fdc52aada17,6ac7930f-40e4-42d3-be61-c06efdfe8d9d'},\n",
       "  {'relation': 'first',\n",
       "   'url': 'https://demo.kodjin.com/fhir/Patient?_count=20&_sort=-inserted_at,id&_id=9b39db40-e94b-4cfc-8809-8fdc52aada17,6ac7930f-40e4-42d3-be61-c06efdfe8d9d'}]}"
      ]
     },
     "execution_count": 16,
     "metadata": {},
     "output_type": "execute_result"
    }
   ],
   "source": [
    "# get multiple resources by id, note that a bundle is returned\n",
    "client.get(\n",
    "    \"Patient\",\n",
    "    id=[\"9b39db40-e94b-4cfc-8809-8fdc52aada17\", \"6ac7930f-40e4-42d3-be61-c06efdfe8d9d\"],\n",
    ")"
   ]
  },
  {
   "cell_type": "code",
   "execution_count": 17,
   "id": "6d86ea85",
   "metadata": {},
   "outputs": [
    {
     "data": {
      "text/plain": [
       "Patient({'resourceType': 'Patient', 'id': '9b39db40-e94b-4cfc-8809-8fdc52aada17', 'meta': {'versionId': '4', 'lastUpdated': '2024-08-20T10:41:54.827080857+00:00', 'source': 'kodjin_ui', 'profile': ['http://hl7.org/fhir/StructureDefinition/Patient'], 'security': [{'system': 'http://terminology.hl7.org/CodeSystem/v3-Confidentiality', 'code': 'R'}], 'tag': [{'code': 'Kodjin_UI'}, {'code': 'Kodjin_UI'}]}, 'identifier': [{'use': 'official', 'type': {'coding': [{'system': 'http://fhir.de/CodeSystem/identifier-type-de-basis', 'code': 'GKV'}]}, 'system': 'http://fhir.au/sid/barmer/kvid-10', 'value': 'J089633009'}], 'active': True, 'name': [{'use': 'official', 'text': 'Sean Davis', 'family': 'Davis', 'given': ['Sean']}], 'telecom': [{'system': 'email', 'value': 'patient@email.com', 'use': 'work'}, {'system': 'phone', 'value': '050-445-97', 'use': 'work'}], 'gender': 'male', 'birthDate': '2005-07-09', 'address': [{'city': 'Kyiv'}], 'communication': [{'language': {'coding': [{'system': 'http://example/languages', 'code': 'FR'}]}}, {'language': {'coding': [{'system': 'http://example/languages', 'code': 'NL'}]}}]})"
      ]
     },
     "execution_count": 17,
     "metadata": {},
     "output_type": "execute_result"
    }
   ],
   "source": [
    "# get Patient as an object\n",
    "client.get(\"Patient\", id=\"9b39db40-e94b-4cfc-8809-8fdc52aada17\", as_object=True)"
   ]
  },
  {
   "cell_type": "code",
   "execution_count": 18,
   "id": "fcce281e",
   "metadata": {},
   "outputs": [
    {
     "data": {
      "text/plain": [
       "Patient({'resourceType': 'Patient', 'id': '9b39db40-e94b-4cfc-8809-8fdc52aada17', 'meta': {'versionId': '4', 'lastUpdated': '2024-08-20T10:41:54.827080857+00:00', 'source': 'kodjin_ui', 'profile': ['http://hl7.org/fhir/StructureDefinition/Patient'], 'security': [{'system': 'http://terminology.hl7.org/CodeSystem/v3-Confidentiality', 'code': 'R'}], 'tag': [{'code': 'Kodjin_UI'}, {'code': 'Kodjin_UI'}]}, 'identifier': [{'use': 'official', 'type': {'coding': [{'system': 'http://fhir.de/CodeSystem/identifier-type-de-basis', 'code': 'GKV'}]}, 'system': 'http://fhir.au/sid/barmer/kvid-10', 'value': 'J089633009'}], 'active': True, 'name': [{'use': 'official', 'text': 'Sean Davis', 'family': 'Davis', 'given': ['Sean']}], 'telecom': [{'system': 'email', 'value': 'patient@email.com', 'use': 'work'}, {'system': 'phone', 'value': '050-445-97', 'use': 'work'}], 'gender': 'male', 'birthDate': '2005-07-09', 'address': [{'city': 'Kyiv'}], 'communication': [{'language': {'coding': [{'system': 'http://example/languages', 'code': 'FR'}]}}, {'language': {'coding': [{'system': 'http://example/languages', 'code': 'NL'}]}}]})"
      ]
     },
     "execution_count": 18,
     "metadata": {},
     "output_type": "execute_result"
    }
   ],
   "source": [
    "# get object from dict\n",
    "patient = client.get(\"Patient\", id=\"9b39db40-e94b-4cfc-8809-8fdc52aada17\")\n",
    "Patient.from_dict(patient)"
   ]
  },
  {
   "cell_type": "code",
   "execution_count": 27,
   "id": "acae54e37e7d407bbb7b55eff062a284",
   "metadata": {},
   "outputs": [
    {
     "data": {
      "text/plain": [
       "SearchBundle({'resourceType': 'Bundle', 'type': 'searchset', 'entry': [{'fullUrl': 'https://demo.kodjin.com/fhir/Patient/1e6bed6a-4fcb-4064-b67c-b7a636a6f2db', 'resource': {'resourceType': 'Patient', 'id': '1e6bed6a-4fcb-4064-b67c-b7a636a6f2db', 'meta': {'lastUpdated': '2024-07-05T05:45:34.236584763+00:00', 'profile': ['http://hl7.org/fhir/us/carin-bb/StructureDefinition/C4BB-Patient|2.0.0'], 'versionId': '1'}, 'language': 'en-US', 'identifier': [{'type': {'coding': [{'system': 'http://terminology.hl7.org/CodeSystem/v2-0203', 'code': 'MB', 'display': 'Member Number'}], 'text': 'An identifier for the insured of an insurance policy (this insured always has a subscriber), usually assigned by the insurance carrier.'}, 'system': 'https://www.upmchealthplan.com/fhir/memberidentifier', 'value': '88800933501', 'assigner': {'reference': 'Organization/0844eeed-1470-45e6-b85e-b66846d28c7d', 'display': 'UPMC Health Plan'}}], 'active': True, 'name': [{'family': 'Patty', 'given': ['Crow']}], 'telecom': [{'system': 'phone', 'value': '5555555551', 'rank': 1}, {'system': 'phone', 'value': '5555555552', 'rank': 2}, {'system': 'phone', 'value': '5555555553', 'rank': 3}, {'system': 'phone', 'value': '5555555554', 'rank': 4}, {'system': 'phone', 'value': '5555555555', 'use': 'home', 'rank': 5}, {'system': 'phone', 'value': '5555555556', 'use': 'work', 'rank': 6}, {'system': 'email', 'value': 'GXXX@XXXX.com', 'rank': 7}, {'system': 'fax', 'value': '5555555557', 'rank': 8}], 'gender': 'female', 'birthDate': '1943-01-01', 'address': [{'type': 'physical', 'line': ['123 Main Street'], 'city': 'PITTSBURGH', 'state': 'PA', 'postalCode': '15239'}, {'type': 'physical', 'line': ['456 Murray Avenue'], 'city': 'PITTSBURGH', 'state': 'PA', 'postalCode': '15217'}], 'maritalStatus': {'coding': [{'system': 'http://terminology.hl7.org/CodeSystem/v3-NullFlavor', 'code': 'UNK'}], 'text': 'unknown'}, 'communication': [{'language': {'coding': [{'system': 'urn:ietf:bcp:47', 'code': 'en'}], 'text': 'English'}, 'preferred': True}], 'managingOrganization': {'reference': 'Organization/0844eeed-1470-45e6-b85e-b66846d28c7d', 'display': 'UPMC Health Plan'}}, 'search': {'mode': 'match'}}, {'fullUrl': 'https://demo.kodjin.com/fhir/Patient/example', 'resource': {'resourceType': 'Patient', 'id': 'example', 'meta': {'source': 'openemr-demo', 'versionId': '4', 'lastUpdated': '2024-06-09T20:33:08.109474086+00:00'}, 'identifier': [{'type': {'coding': [{'system': 'http://terminology.hl7.org/CodeSystem/v2-0203', 'code': 'VS', 'display': 'VIdddSA'}]}, 'system': 'http://nphies.sa/identifier/visa', 'value': 'k2'}], 'active': False, 'name': [{'use': 'official', 'text': 'AA Caesar Salad', 'family': 'AA', 'given': ['Solomia', 'Tom']}], 'telecom': [{'system': 'phone', 'value': '950549488', 'use': 'mobile'}], 'gender': 'other', 'birthDate': '2021-11-08', 'managingOrganization': {'reference': 'http://happy-clinic.sa/Organization/4c0af6eb-8f29-47e1-b4c5-b15914b18d89'}}, 'search': {'mode': 'match'}}, {'fullUrl': 'https://demo.kodjin.com/fhir/Condition/b94228ac-21ee-4584-a862-7182bbeda030', 'resource': {'resourceType': 'Condition', 'id': 'b94228ac-21ee-4584-a862-7182bbeda030', 'meta': {'profile': ['http://hl7.org/fhir/us/core/StructureDefinition/us-core-condition'], 'versionId': '1', 'lastUpdated': '2024-07-05T05:45:44.427616932+00:00'}, 'text': {'status': 'generated', 'div': '<div xmlns=\"http://www.w3.org/1999/xhtml\"><p><b>Generated Narrative</b></p><p><b>id</b>: example</p><p><b>meta</b>: </p><p><b>clinicalStatus</b>: <span title=\"Codes: {http://terminology.hl7.org/CodeSystem/condition-clinical active}\">Active</span></p><p><b>verificationStatus</b>: <span title=\"Codes: {http://terminology.hl7.org/CodeSystem/condition-ver-status confirmed}\">Confirmed</span></p><p><b>category</b>: <span title=\"Codes: {http://terminology.hl7.org/CodeSystem/condition-category problem-list-item}\">Problem</span></p><p><b>code</b>: <span title=\"Codes: {http://snomed.info/sct 442311008}\">Single liveborn, born in hospital</span></p><p><b>subject</b>: <a href=\"Patient-example.html\">Amy V. Shaw. Generated Summary: id: example; Medical Record Number = 1032702 (USUAL); active; Amy V. Shaw , Amy V. Baxter ; ph: 555-555-5555(HOME), amy.shaw@example.com; gender: female; birthDate: 1987-02-20</a></p><p><b>onset</b>: 2016-08-10</p></div>'}, 'clinicalStatus': {'coding': [{'system': 'http://terminology.hl7.org/CodeSystem/condition-clinical', 'code': 'active', 'display': 'Active'}], 'text': 'Active'}, 'verificationStatus': {'coding': [{'system': 'http://terminology.hl7.org/CodeSystem/condition-ver-status', 'code': 'confirmed', 'display': 'Confirmed'}], 'text': 'Confirmed'}, 'category': [{'coding': [{'system': 'http://terminology.hl7.org/CodeSystem/condition-category', 'code': 'problem-list-item', 'display': 'Problem List Item'}], 'text': 'Problem'}], 'code': {'coding': [{'system': 'http://snomed.info/sct', 'code': '160245001', 'display': 'No current problems or disability'}], 'text': 'Single liveborn, born in hospital'}, 'subject': {'reference': 'Patient/1e6bed6a-4fcb-4064-b67c-b7a636a6f2db'}, 'onsetDateTime': '2016-08-10'}, 'search': {'mode': 'include'}}, {'fullUrl': 'https://demo.kodjin.com/fhir/Condition/13b810dc-58d5-42e3-b34f-5e2454401561', 'resource': {'resourceType': 'Condition', 'id': '13b810dc-58d5-42e3-b34f-5e2454401561', 'meta': {'profile': ['http://hl7.org/fhir/us/core/StructureDefinition/us-core-condition'], 'versionId': '1', 'lastUpdated': '2024-07-05T05:48:43.433400787+00:00'}, 'clinicalStatus': {'coding': [{'system': 'http://terminology.hl7.org/CodeSystem/condition-clinical', 'code': 'active', 'display': 'Active'}], 'text': 'Active'}, 'verificationStatus': {'coding': [{'system': 'http://terminology.hl7.org/CodeSystem/condition-ver-status', 'code': 'confirmed', 'display': 'Confirmed'}], 'text': 'Confirmed'}, 'category': [{'coding': [{'system': 'http://terminology.hl7.org/CodeSystem/condition-category', 'code': 'problem-list-item', 'display': 'Problem List Item'}], 'text': 'Problem'}], 'code': {'coding': [{'system': 'http://snomed.info/sct', 'code': '160245001', 'display': 'No current problems or disability'}], 'text': 'Single liveborn, born in hospital'}, 'subject': {'reference': 'Patient/1e6bed6a-4fcb-4064-b67c-b7a636a6f2db'}, 'onsetDateTime': '2016-08-10'}, 'search': {'mode': 'include'}}, {'fullUrl': 'https://demo.kodjin.com/fhir/Condition/stroke', 'resource': {'resourceType': 'Condition', 'id': 'stroke', 'text': {'status': 'generated', 'div': '<div xmlns=\"http://www.w3.org/1999/xhtml\">Ischemic stroke, July 18, 2010</div>'}, 'clinicalStatus': {'coding': [{'system': 'http://terminology.hl7.org/CodeSystem/condition-clinical', 'code': 'active'}]}, 'verificationStatus': {'coding': [{'system': 'http://terminology.hl7.org/CodeSystem/condition-ver-status', 'code': 'confirmed'}]}, 'category': [{'coding': [{'system': 'http://terminology.hl7.org/CodeSystem/condition-category', 'code': 'encounter-diagnosis', 'display': 'Encounter Diagnosis'}]}], 'code': {'coding': [{'system': 'http://snomed.info/sct', 'code': '422504002', 'display': 'Ischemic stroke (disorder)'}], 'text': 'Stroke'}, 'subject': {'reference': 'Patient/example'}, 'onsetDateTime': '2010-07-18', 'meta': {'versionId': '1', 'lastUpdated': '2024-08-07T14:52:10.116563789+00:00'}}, 'search': {'mode': 'include'}}, {'fullUrl': 'https://demo.kodjin.com/fhir/Condition/Example-condition-ausrufezeichen-primaer', 'resource': {'resourceType': 'Condition', 'id': 'Example-condition-ausrufezeichen-primaer', 'code': {'coding': [{'version': '2019', 'code': 'F16.1', 'system': 'http://fhir.de/CodeSystem/bfarm/icd-10-gm', 'display': 'Psychische Verhaltensstörung durch Halluzinogene (Akute Intoxikation)'}]}, 'subject': {'reference': 'Patient/example'}, 'meta': {'versionId': '1', 'lastUpdated': '2024-08-08T08:58:59.194020512+00:00'}}, 'search': {'mode': 'include'}}, {'fullUrl': 'https://demo.kodjin.com/fhir/Condition/Example-condition-minimal', 'resource': {'resourceType': 'Condition', 'id': 'Example-condition-minimal', 'code': {'coding': [{'version': '2019', 'code': 'F71.0', 'system': 'http://fhir.de/CodeSystem/bfarm/icd-10-gm', 'display': 'Mittelgradige Intelligenzminderung Keine oder geringfügige Verhaltensstörung'}]}, 'subject': {'reference': 'Patient/example'}, 'meta': {'versionId': '1', 'lastUpdated': '2024-08-08T08:58:59.715277852+00:00'}}, 'search': {'mode': 'include'}}], 'link': [{'relation': 'self', 'url': 'https://demo.kodjin.com/fhir/Patient?_count=20&_sort=-inserted_at,id&_revinclude=Condition:subject&_id=example,1e6bed6a-4fcb-4064-b67c-b7a636a6f2db'}, {'relation': 'first', 'url': 'https://demo.kodjin.com/fhir/Patient?_count=20&_sort=-inserted_at,id&_revinclude=Condition:subject&_id=example,1e6bed6a-4fcb-4064-b67c-b7a636a6f2db'}]})"
      ]
     },
     "execution_count": 27,
     "metadata": {},
     "output_type": "execute_result"
    }
   ],
   "source": [
    "# get a SearchBundle object\n",
    "bundle = client.get(\n",
    "    \"Patient\",\n",
    "    id=[\"example\", \"1e6bed6a-4fcb-4064-b67c-b7a636a6f2db\"],\n",
    "    search_params={\"_revinclude\": \"Condition:subject\"},\n",
    "    as_object=True,\n",
    ")\n",
    "bundle"
   ]
  },
  {
   "cell_type": "code",
   "execution_count": 28,
   "id": "9a63283cbaf04dbcab1f6479b197f3a8",
   "metadata": {},
   "outputs": [
    {
     "data": {
      "text/plain": [
       "[{'resourceType': 'Patient',\n",
       "  'id': '1e6bed6a-4fcb-4064-b67c-b7a636a6f2db',\n",
       "  'meta': {'lastUpdated': '2024-07-05T05:45:34.236584763+00:00',\n",
       "   'profile': ['http://hl7.org/fhir/us/carin-bb/StructureDefinition/C4BB-Patient|2.0.0'],\n",
       "   'versionId': '1'},\n",
       "  'language': 'en-US',\n",
       "  'identifier': [{'type': {'coding': [{'system': 'http://terminology.hl7.org/CodeSystem/v2-0203',\n",
       "       'code': 'MB',\n",
       "       'display': 'Member Number'}],\n",
       "     'text': 'An identifier for the insured of an insurance policy (this insured always has a subscriber), usually assigned by the insurance carrier.'},\n",
       "    'system': 'https://www.upmchealthplan.com/fhir/memberidentifier',\n",
       "    'value': '88800933501',\n",
       "    'assigner': {'reference': 'Organization/0844eeed-1470-45e6-b85e-b66846d28c7d',\n",
       "     'display': 'UPMC Health Plan'}}],\n",
       "  'active': True,\n",
       "  'name': [{'family': 'Patty', 'given': ['Crow']}],\n",
       "  'telecom': [{'system': 'phone', 'value': '5555555551', 'rank': 1},\n",
       "   {'system': 'phone', 'value': '5555555552', 'rank': 2},\n",
       "   {'system': 'phone', 'value': '5555555553', 'rank': 3},\n",
       "   {'system': 'phone', 'value': '5555555554', 'rank': 4},\n",
       "   {'system': 'phone', 'value': '5555555555', 'use': 'home', 'rank': 5},\n",
       "   {'system': 'phone', 'value': '5555555556', 'use': 'work', 'rank': 6},\n",
       "   {'system': 'email', 'value': 'GXXX@XXXX.com', 'rank': 7},\n",
       "   {'system': 'fax', 'value': '5555555557', 'rank': 8}],\n",
       "  'gender': 'female',\n",
       "  'birthDate': '1943-01-01',\n",
       "  'address': [{'type': 'physical',\n",
       "    'line': ['123 Main Street'],\n",
       "    'city': 'PITTSBURGH',\n",
       "    'state': 'PA',\n",
       "    'postalCode': '15239'},\n",
       "   {'type': 'physical',\n",
       "    'line': ['456 Murray Avenue'],\n",
       "    'city': 'PITTSBURGH',\n",
       "    'state': 'PA',\n",
       "    'postalCode': '15217'}],\n",
       "  'maritalStatus': {'coding': [{'system': 'http://terminology.hl7.org/CodeSystem/v3-NullFlavor',\n",
       "     'code': 'UNK'}],\n",
       "   'text': 'unknown'},\n",
       "  'communication': [{'language': {'coding': [{'system': 'urn:ietf:bcp:47',\n",
       "       'code': 'en'}],\n",
       "     'text': 'English'},\n",
       "    'preferred': True}],\n",
       "  'managingOrganization': {'reference': 'Organization/0844eeed-1470-45e6-b85e-b66846d28c7d',\n",
       "   'display': 'UPMC Health Plan'}},\n",
       " {'resourceType': 'Patient',\n",
       "  'id': 'example',\n",
       "  'meta': {'source': 'openemr-demo',\n",
       "   'versionId': '4',\n",
       "   'lastUpdated': '2024-06-09T20:33:08.109474086+00:00'},\n",
       "  'identifier': [{'type': {'coding': [{'system': 'http://terminology.hl7.org/CodeSystem/v2-0203',\n",
       "       'code': 'VS',\n",
       "       'display': 'VIdddSA'}]},\n",
       "    'system': 'http://nphies.sa/identifier/visa',\n",
       "    'value': 'k2'}],\n",
       "  'active': False,\n",
       "  'name': [{'use': 'official',\n",
       "    'text': 'AA Caesar Salad',\n",
       "    'family': 'AA',\n",
       "    'given': ['Solomia', 'Tom']}],\n",
       "  'telecom': [{'system': 'phone', 'value': '950549488', 'use': 'mobile'}],\n",
       "  'gender': 'other',\n",
       "  'birthDate': '2021-11-08',\n",
       "  'managingOrganization': {'reference': 'http://happy-clinic.sa/Organization/4c0af6eb-8f29-47e1-b4c5-b15914b18d89'}}]"
      ]
     },
     "execution_count": 28,
     "metadata": {},
     "output_type": "execute_result"
    }
   ],
   "source": [
    "# get the resources from the bundle as list\n",
    "bundle.resources[:2]"
   ]
  },
  {
   "cell_type": "code",
   "execution_count": 29,
   "id": "8dd0d8092fe74a7c96281538738b07e2",
   "metadata": {},
   "outputs": [
    {
     "data": {
      "text/plain": [
       "7"
      ]
     },
     "execution_count": 29,
     "metadata": {},
     "output_type": "execute_result"
    }
   ],
   "source": [
    "# Get count of resources in the bundle\n",
    "bundle.size"
   ]
  },
  {
   "cell_type": "code",
   "execution_count": 30,
   "id": "72eea5119410473aa328ad9291626812",
   "metadata": {},
   "outputs": [
    {
     "data": {
      "text/plain": [
       "[{'resourceType': 'Condition',\n",
       "  'id': 'b94228ac-21ee-4584-a862-7182bbeda030',\n",
       "  'meta': {'profile': ['http://hl7.org/fhir/us/core/StructureDefinition/us-core-condition'],\n",
       "   'versionId': '1',\n",
       "   'lastUpdated': '2024-07-05T05:45:44.427616932+00:00'},\n",
       "  'text': {'status': 'generated',\n",
       "   'div': '<div xmlns=\"http://www.w3.org/1999/xhtml\"><p><b>Generated Narrative</b></p><p><b>id</b>: example</p><p><b>meta</b>: </p><p><b>clinicalStatus</b>: <span title=\"Codes: {http://terminology.hl7.org/CodeSystem/condition-clinical active}\">Active</span></p><p><b>verificationStatus</b>: <span title=\"Codes: {http://terminology.hl7.org/CodeSystem/condition-ver-status confirmed}\">Confirmed</span></p><p><b>category</b>: <span title=\"Codes: {http://terminology.hl7.org/CodeSystem/condition-category problem-list-item}\">Problem</span></p><p><b>code</b>: <span title=\"Codes: {http://snomed.info/sct 442311008}\">Single liveborn, born in hospital</span></p><p><b>subject</b>: <a href=\"Patient-example.html\">Amy V. Shaw. Generated Summary: id: example; Medical Record Number = 1032702 (USUAL); active; Amy V. Shaw , Amy V. Baxter ; ph: 555-555-5555(HOME), amy.shaw@example.com; gender: female; birthDate: 1987-02-20</a></p><p><b>onset</b>: 2016-08-10</p></div>'},\n",
       "  'clinicalStatus': {'coding': [{'system': 'http://terminology.hl7.org/CodeSystem/condition-clinical',\n",
       "     'code': 'active',\n",
       "     'display': 'Active'}],\n",
       "   'text': 'Active'},\n",
       "  'verificationStatus': {'coding': [{'system': 'http://terminology.hl7.org/CodeSystem/condition-ver-status',\n",
       "     'code': 'confirmed',\n",
       "     'display': 'Confirmed'}],\n",
       "   'text': 'Confirmed'},\n",
       "  'category': [{'coding': [{'system': 'http://terminology.hl7.org/CodeSystem/condition-category',\n",
       "      'code': 'problem-list-item',\n",
       "      'display': 'Problem List Item'}],\n",
       "    'text': 'Problem'}],\n",
       "  'code': {'coding': [{'system': 'http://snomed.info/sct',\n",
       "     'code': '160245001',\n",
       "     'display': 'No current problems or disability'}],\n",
       "   'text': 'Single liveborn, born in hospital'},\n",
       "  'subject': {'reference': 'Patient/1e6bed6a-4fcb-4064-b67c-b7a636a6f2db'},\n",
       "  'onsetDateTime': '2016-08-10'},\n",
       " {'resourceType': 'Condition',\n",
       "  'id': '13b810dc-58d5-42e3-b34f-5e2454401561',\n",
       "  'meta': {'profile': ['http://hl7.org/fhir/us/core/StructureDefinition/us-core-condition'],\n",
       "   'versionId': '1',\n",
       "   'lastUpdated': '2024-07-05T05:48:43.433400787+00:00'},\n",
       "  'clinicalStatus': {'coding': [{'system': 'http://terminology.hl7.org/CodeSystem/condition-clinical',\n",
       "     'code': 'active',\n",
       "     'display': 'Active'}],\n",
       "   'text': 'Active'},\n",
       "  'verificationStatus': {'coding': [{'system': 'http://terminology.hl7.org/CodeSystem/condition-ver-status',\n",
       "     'code': 'confirmed',\n",
       "     'display': 'Confirmed'}],\n",
       "   'text': 'Confirmed'},\n",
       "  'category': [{'coding': [{'system': 'http://terminology.hl7.org/CodeSystem/condition-category',\n",
       "      'code': 'problem-list-item',\n",
       "      'display': 'Problem List Item'}],\n",
       "    'text': 'Problem'}],\n",
       "  'code': {'coding': [{'system': 'http://snomed.info/sct',\n",
       "     'code': '160245001',\n",
       "     'display': 'No current problems or disability'}],\n",
       "   'text': 'Single liveborn, born in hospital'},\n",
       "  'subject': {'reference': 'Patient/1e6bed6a-4fcb-4064-b67c-b7a636a6f2db'},\n",
       "  'onsetDateTime': '2016-08-10'}]"
      ]
     },
     "execution_count": 30,
     "metadata": {},
     "output_type": "execute_result"
    }
   ],
   "source": [
    "# Get resources by type\n",
    "bundle.get_resources_by_type(\"Condition\")[:2]"
   ]
  },
  {
   "cell_type": "code",
   "execution_count": 31,
   "id": "8edb47106e1a46a883d545849b8ab81b",
   "metadata": {},
   "outputs": [
    {
     "data": {
      "text/plain": [
       "['Patty', 'AA']"
      ]
     },
     "execution_count": 31,
     "metadata": {},
     "output_type": "execute_result"
    }
   ],
   "source": [
    "# Get specific element by fhirpath\n",
    "bundle.get_path(\"name.family\")"
   ]
  },
  {
   "cell_type": "code",
   "execution_count": 32,
   "id": "10185d26023b46108eb7d9f57d49d2b3",
   "metadata": {},
   "outputs": [
    {
     "data": {
      "text/plain": [
       "[['Crow', 'Solomia', 'Tom'],\n",
       " ['160245001', '160245001', '422504002', 'F16.1', 'F71.0'],\n",
       " ['No current problems or disability',\n",
       "  'No current problems or disability',\n",
       "  'Ischemic stroke (disorder)',\n",
       "  'Psychische Verhaltensstörung durch Halluzinogene (Akute Intoxikation)',\n",
       "  'Mittelgradige Intelligenzminderung Keine oder geringfügige Verhaltensstörung']]"
      ]
     },
     "execution_count": 32,
     "metadata": {},
     "output_type": "execute_result"
    }
   ],
   "source": [
    "# Get specfic elements by fhirpaths\n",
    "bundle.get_paths(paths=[\"name.given\", \"code.coding.code\", \"code.coding.display\"])"
   ]
  },
  {
   "cell_type": "markdown",
   "id": "57681fe0",
   "metadata": {},
   "source": [
    "# Search Builder\n"
   ]
  },
  {
   "cell_type": "markdown",
   "id": "0f1280c1",
   "metadata": {},
   "source": [
    "The search builder enables autosuggestions for params, modifiers, prefixes and rev/include statements. This provides a safe way to build search queries.\n"
   ]
  },
  {
   "cell_type": "code",
   "execution_count": null,
   "id": "db156154",
   "metadata": {},
   "outputs": [],
   "source": [
    "from fhan.client.search_builder import SearchBuilder"
   ]
  },
  {
   "cell_type": "code",
   "execution_count": 34,
   "id": "68942401",
   "metadata": {},
   "outputs": [
    {
     "data": {
      "text/plain": [
       "{'resourceType': 'Bundle',\n",
       " 'type': 'searchset',\n",
       " 'entry': [{'fullUrl': 'https://demo.kodjin.com/fhir/Patient/ee8ae006-a71f-927f-8614-1f72a7997e3d',\n",
       "   'resource': {'resourceType': 'Patient',\n",
       "    'id': 'ee8ae006-a71f-927f-8614-1f72a7997e3d',\n",
       "    'meta': {'profile': ['http://hl7.org/fhir/us/core/StructureDefinition/us-core-patient'],\n",
       "     'versionId': '1',\n",
       "     'lastUpdated': '2024-06-27T14:19:51.680844516+00:00'},\n",
       "    'text': {'status': 'generated',\n",
       "     'div': '<div xmlns=\"http://www.w3.org/1999/xhtml\">Generated by <a href=\"https://github.com/synthetichealth/synthea\">Synthea</a>.Version identifier: master-branch-latest\\n .   Person seed: 1235230424975201323  Population seed: 70190323</div>'},\n",
       "    'extension': [{'url': 'http://hl7.org/fhir/us/core/StructureDefinition/us-core-race',\n",
       "      'extension': [{'url': 'ombCategory',\n",
       "        'valueCoding': {'system': 'urn:oid:2.16.840.1.113883.6.238',\n",
       "         'code': '2106-3',\n",
       "         'display': 'White'}},\n",
       "       {'url': 'text', 'valueString': 'White'}]},\n",
       "     {'url': 'http://hl7.org/fhir/us/core/StructureDefinition/us-core-ethnicity',\n",
       "      'extension': [{'url': 'ombCategory',\n",
       "        'valueCoding': {'system': 'urn:oid:2.16.840.1.113883.6.238',\n",
       "         'code': '2186-5',\n",
       "         'display': 'Not Hispanic or Latino'}},\n",
       "       {'url': 'text', 'valueString': 'Not Hispanic or Latino'}]},\n",
       "     {'url': 'http://hl7.org/fhir/StructureDefinition/patient-mothersMaidenName',\n",
       "      'valueString': 'Pearlie554 Ritchie586'},\n",
       "     {'url': 'http://hl7.org/fhir/us/core/StructureDefinition/us-core-birthsex',\n",
       "      'valueCode': 'F'},\n",
       "     {'url': 'http://hl7.org/fhir/StructureDefinition/patient-birthPlace',\n",
       "      'valueAddress': {'city': 'Waltham',\n",
       "       'state': 'Massachusetts',\n",
       "       'country': 'US'}}],\n",
       "    'identifier': [{'system': 'https://github.com/synthetichealth/synthea',\n",
       "      'value': 'ee8ae006-a71f-927f-8614-1f72a7997e3d'},\n",
       "     {'type': {'coding': [{'system': 'http://terminology.hl7.org/CodeSystem/v2-0203',\n",
       "         'code': 'MR',\n",
       "         'display': 'Medical Record Number'}],\n",
       "       'text': 'Medical Record Number'},\n",
       "      'system': 'http://hospital.smarthealthit.org',\n",
       "      'value': 'ee8ae006-a71f-927f-8614-1f72a7997e3d'},\n",
       "     {'type': {'coding': [{'system': 'http://terminology.hl7.org/CodeSystem/v2-0203',\n",
       "         'code': 'SS',\n",
       "         'display': 'Social Security Number'}],\n",
       "       'text': 'Social Security Number'},\n",
       "      'system': 'http://hl7.org/fhir/sid/us-ssn',\n",
       "      'value': '999-98-6925'},\n",
       "     {'type': {'coding': [{'system': 'http://terminology.hl7.org/CodeSystem/v2-0203',\n",
       "         'code': 'DL',\n",
       "         'display': \"Driver's license number\"}],\n",
       "       'text': \"Driver's license number\"},\n",
       "      'system': 'urn:oid:2.16.840.1.113883.4.3.25',\n",
       "      'value': 'S99951802'},\n",
       "     {'type': {'coding': [{'system': 'http://terminology.hl7.org/CodeSystem/v2-0203',\n",
       "         'code': 'PPN',\n",
       "         'display': 'Passport Number'}],\n",
       "       'text': 'Passport Number'},\n",
       "      'system': 'http://standardhealthrecord.org/fhir/StructureDefinition/passportNumber',\n",
       "      'value': 'X71273713X'}],\n",
       "    'name': [{'use': 'official',\n",
       "      'family': 'Johnston597',\n",
       "      'given': ['Richelle340', 'Scott935'],\n",
       "      'prefix': ['Mrs.']},\n",
       "     {'use': 'maiden',\n",
       "      'family': 'Hahn503',\n",
       "      'given': ['Richelle340', 'Scott935'],\n",
       "      'prefix': ['Mrs.']}],\n",
       "    'telecom': [{'system': 'phone', 'value': '555-199-2062', 'use': 'home'}],\n",
       "    'gender': 'female',\n",
       "    'birthDate': '1953-03-21',\n",
       "    'address': [{'extension': [{'url': 'http://hl7.org/fhir/StructureDefinition/geolocation',\n",
       "        'extension': [{'url': 'latitude', 'valueDecimal': 42.35592628464606},\n",
       "         {'url': 'longitude', 'valueDecimal': -71.19156065962063}]}],\n",
       "      'line': ['208 Wolff Gateway Suite 65'],\n",
       "      'city': 'Newton',\n",
       "      'state': 'MA',\n",
       "      'postalCode': '02466',\n",
       "      'country': 'US'}],\n",
       "    'maritalStatus': {'coding': [{'system': 'http://terminology.hl7.org/CodeSystem/v3-MaritalStatus',\n",
       "       'code': 'D',\n",
       "       'display': 'Divorced'}],\n",
       "     'text': 'Divorced'},\n",
       "    'multipleBirthBoolean': False,\n",
       "    'communication': [{'language': {'coding': [{'system': 'urn:ietf:bcp:47',\n",
       "         'code': 'en-US',\n",
       "         'display': 'English (United States)'}],\n",
       "       'text': 'English (United States)'}}]},\n",
       "   'search': {'mode': 'match'}},\n",
       "  {'fullUrl': 'https://demo.kodjin.com/fhir/Patient/1988dcd4-e825-c7cb-9dc1-1312b1487c83',\n",
       "   'resource': {'resourceType': 'Patient',\n",
       "    'id': '1988dcd4-e825-c7cb-9dc1-1312b1487c83',\n",
       "    'meta': {'profile': ['http://hl7.org/fhir/us/core/StructureDefinition/us-core-patient'],\n",
       "     'versionId': '1',\n",
       "     'lastUpdated': '2024-06-27T14:19:51.343875724+00:00'},\n",
       "    'text': {'status': 'generated',\n",
       "     'div': '<div xmlns=\"http://www.w3.org/1999/xhtml\">Generated by <a href=\"https://github.com/synthetichealth/synthea\">Synthea</a>.Version identifier: master-branch-latest\\n .   Person seed: 7890940155045556017  Population seed: 70190323</div>'},\n",
       "    'extension': [{'url': 'http://hl7.org/fhir/us/core/StructureDefinition/us-core-race',\n",
       "      'extension': [{'url': 'ombCategory',\n",
       "        'valueCoding': {'system': 'urn:oid:2.16.840.1.113883.6.238',\n",
       "         'code': '2106-3',\n",
       "         'display': 'White'}},\n",
       "       {'url': 'text', 'valueString': 'White'}]},\n",
       "     {'url': 'http://hl7.org/fhir/us/core/StructureDefinition/us-core-ethnicity',\n",
       "      'extension': [{'url': 'ombCategory',\n",
       "        'valueCoding': {'system': 'urn:oid:2.16.840.1.113883.6.238',\n",
       "         'code': '2186-5',\n",
       "         'display': 'Not Hispanic or Latino'}},\n",
       "       {'url': 'text', 'valueString': 'Not Hispanic or Latino'}]},\n",
       "     {'url': 'http://hl7.org/fhir/StructureDefinition/patient-mothersMaidenName',\n",
       "      'valueString': 'Mindy103 Renner328'},\n",
       "     {'url': 'http://hl7.org/fhir/us/core/StructureDefinition/us-core-birthsex',\n",
       "      'valueCode': 'F'},\n",
       "     {'url': 'http://hl7.org/fhir/StructureDefinition/patient-birthPlace',\n",
       "      'valueAddress': {'city': 'Lowell',\n",
       "       'state': 'Massachusetts',\n",
       "       'country': 'US'}}],\n",
       "    'identifier': [{'system': 'https://github.com/synthetichealth/synthea',\n",
       "      'value': '1988dcd4-e825-c7cb-9dc1-1312b1487c83'},\n",
       "     {'type': {'coding': [{'system': 'http://terminology.hl7.org/CodeSystem/v2-0203',\n",
       "         'code': 'MR',\n",
       "         'display': 'Medical Record Number'}],\n",
       "       'text': 'Medical Record Number'},\n",
       "      'system': 'http://hospital.smarthealthit.org',\n",
       "      'value': '1988dcd4-e825-c7cb-9dc1-1312b1487c83'},\n",
       "     {'type': {'coding': [{'system': 'http://terminology.hl7.org/CodeSystem/v2-0203',\n",
       "         'code': 'SS',\n",
       "         'display': 'Social Security Number'}],\n",
       "       'text': 'Social Security Number'},\n",
       "      'system': 'http://hl7.org/fhir/sid/us-ssn',\n",
       "      'value': '999-73-7066'},\n",
       "     {'type': {'coding': [{'system': 'http://terminology.hl7.org/CodeSystem/v2-0203',\n",
       "         'code': 'DL',\n",
       "         'display': \"Driver's license number\"}],\n",
       "       'text': \"Driver's license number\"},\n",
       "      'system': 'urn:oid:2.16.840.1.113883.4.3.25',\n",
       "      'value': 'S99924567'},\n",
       "     {'type': {'coding': [{'system': 'http://terminology.hl7.org/CodeSystem/v2-0203',\n",
       "         'code': 'PPN',\n",
       "         'display': 'Passport Number'}],\n",
       "       'text': 'Passport Number'},\n",
       "      'system': 'http://standardhealthrecord.org/fhir/StructureDefinition/passportNumber',\n",
       "      'value': 'X16130285X'}],\n",
       "    'name': [{'use': 'official',\n",
       "      'family': 'Johnston597',\n",
       "      'given': ['Shamika26'],\n",
       "      'prefix': ['Mrs.']},\n",
       "     {'use': 'maiden',\n",
       "      'family': 'Cruickshank494',\n",
       "      'given': ['Shamika26'],\n",
       "      'prefix': ['Mrs.']}],\n",
       "    'telecom': [{'system': 'phone', 'value': '555-803-4059', 'use': 'home'}],\n",
       "    'gender': 'female',\n",
       "    'birthDate': '1945-01-20',\n",
       "    'address': [{'extension': [{'url': 'http://hl7.org/fhir/StructureDefinition/geolocation',\n",
       "        'extension': [{'url': 'latitude', 'valueDecimal': 42.10458470867049},\n",
       "         {'url': 'longitude', 'valueDecimal': -72.62146396920346}]}],\n",
       "      'line': ['811 Schneider Boulevard'],\n",
       "      'city': 'Springfield',\n",
       "      'state': 'MA',\n",
       "      'postalCode': '01119',\n",
       "      'country': 'US'}],\n",
       "    'maritalStatus': {'coding': [{'system': 'http://terminology.hl7.org/CodeSystem/v3-MaritalStatus',\n",
       "       'code': 'M',\n",
       "       'display': 'Married'}],\n",
       "     'text': 'Married'},\n",
       "    'multipleBirthBoolean': False,\n",
       "    'communication': [{'language': {'coding': [{'system': 'urn:ietf:bcp:47',\n",
       "         'code': 'en-US',\n",
       "         'display': 'English (United States)'}],\n",
       "       'text': 'English (United States)'}}]},\n",
       "   'search': {'mode': 'match'}},\n",
       "  {'fullUrl': 'https://demo.kodjin.com/fhir/Patient/2092142c-7329-7cd2-999d-c0a428d9500f',\n",
       "   'resource': {'resourceType': 'Patient',\n",
       "    'id': '2092142c-7329-7cd2-999d-c0a428d9500f',\n",
       "    'meta': {'profile': ['http://hl7.org/fhir/us/core/StructureDefinition/us-core-patient'],\n",
       "     'versionId': '1',\n",
       "     'lastUpdated': '2024-06-27T14:19:51.189854310+00:00'},\n",
       "    'text': {'status': 'generated',\n",
       "     'div': '<div xmlns=\"http://www.w3.org/1999/xhtml\">Generated by <a href=\"https://github.com/synthetichealth/synthea\">Synthea</a>.Version identifier: master-branch-latest\\n .   Person seed: -1345701975976944695  Population seed: 70190323</div>'},\n",
       "    'extension': [{'url': 'http://hl7.org/fhir/us/core/StructureDefinition/us-core-race',\n",
       "      'extension': [{'url': 'ombCategory',\n",
       "        'valueCoding': {'system': 'urn:oid:2.16.840.1.113883.6.238',\n",
       "         'code': '2106-3',\n",
       "         'display': 'White'}},\n",
       "       {'url': 'text', 'valueString': 'White'}]},\n",
       "     {'url': 'http://hl7.org/fhir/us/core/StructureDefinition/us-core-ethnicity',\n",
       "      'extension': [{'url': 'ombCategory',\n",
       "        'valueCoding': {'system': 'urn:oid:2.16.840.1.113883.6.238',\n",
       "         'code': '2186-5',\n",
       "         'display': 'Not Hispanic or Latino'}},\n",
       "       {'url': 'text', 'valueString': 'Not Hispanic or Latino'}]},\n",
       "     {'url': 'http://hl7.org/fhir/StructureDefinition/patient-mothersMaidenName',\n",
       "      'valueString': 'Jeniffer557 Cartwright189'},\n",
       "     {'url': 'http://hl7.org/fhir/us/core/StructureDefinition/us-core-birthsex',\n",
       "      'valueCode': 'F'},\n",
       "     {'url': 'http://hl7.org/fhir/StructureDefinition/patient-birthPlace',\n",
       "      'valueAddress': {'city': 'Peabody',\n",
       "       'state': 'Massachusetts',\n",
       "       'country': 'US'}}],\n",
       "    'identifier': [{'system': 'https://github.com/synthetichealth/synthea',\n",
       "      'value': '2092142c-7329-7cd2-999d-c0a428d9500f'},\n",
       "     {'type': {'coding': [{'system': 'http://terminology.hl7.org/CodeSystem/v2-0203',\n",
       "         'code': 'MR',\n",
       "         'display': 'Medical Record Number'}],\n",
       "       'text': 'Medical Record Number'},\n",
       "      'system': 'http://hospital.smarthealthit.org',\n",
       "      'value': '2092142c-7329-7cd2-999d-c0a428d9500f'},\n",
       "     {'type': {'coding': [{'system': 'http://terminology.hl7.org/CodeSystem/v2-0203',\n",
       "         'code': 'SS',\n",
       "         'display': 'Social Security Number'}],\n",
       "       'text': 'Social Security Number'},\n",
       "      'system': 'http://hl7.org/fhir/sid/us-ssn',\n",
       "      'value': '999-97-5580'},\n",
       "     {'type': {'coding': [{'system': 'http://terminology.hl7.org/CodeSystem/v2-0203',\n",
       "         'code': 'DL',\n",
       "         'display': \"Driver's license number\"}],\n",
       "       'text': \"Driver's license number\"},\n",
       "      'system': 'urn:oid:2.16.840.1.113883.4.3.25',\n",
       "      'value': 'S99925874'},\n",
       "     {'type': {'coding': [{'system': 'http://terminology.hl7.org/CodeSystem/v2-0203',\n",
       "         'code': 'PPN',\n",
       "         'display': 'Passport Number'}],\n",
       "       'text': 'Passport Number'},\n",
       "      'system': 'http://standardhealthrecord.org/fhir/StructureDefinition/passportNumber',\n",
       "      'value': 'X7744258X'}],\n",
       "    'name': [{'use': 'official',\n",
       "      'family': 'Keeling57',\n",
       "      'given': ['Jeffie441', 'Alysia661'],\n",
       "      'prefix': ['Mrs.']},\n",
       "     {'use': 'maiden',\n",
       "      'family': 'Johnston597',\n",
       "      'given': ['Jeffie441', 'Alysia661'],\n",
       "      'prefix': ['Mrs.']}],\n",
       "    'telecom': [{'system': 'phone', 'value': '555-657-9735', 'use': 'home'}],\n",
       "    'gender': 'female',\n",
       "    'birthDate': '1966-11-17',\n",
       "    'address': [{'extension': [{'url': 'http://hl7.org/fhir/StructureDefinition/geolocation',\n",
       "        'extension': [{'url': 'latitude', 'valueDecimal': 42.526190984114},\n",
       "         {'url': 'longitude', 'valueDecimal': -71.86455573105914}]}],\n",
       "      'line': ['994 Bernhard Heights'],\n",
       "      'city': 'Westminster',\n",
       "      'state': 'MA',\n",
       "      'postalCode': '00000',\n",
       "      'country': 'US'}],\n",
       "    'maritalStatus': {'coding': [{'system': 'http://terminology.hl7.org/CodeSystem/v3-MaritalStatus',\n",
       "       'code': 'M',\n",
       "       'display': 'Married'}],\n",
       "     'text': 'Married'},\n",
       "    'multipleBirthBoolean': False,\n",
       "    'communication': [{'language': {'coding': [{'system': 'urn:ietf:bcp:47',\n",
       "         'code': 'en-US',\n",
       "         'display': 'English (United States)'}],\n",
       "       'text': 'English (United States)'}}]},\n",
       "   'search': {'mode': 'match'}}],\n",
       " 'link': [{'relation': 'self',\n",
       "   'url': 'https://demo.kodjin.com/fhir/Patient?_count=3&_sort=-inserted_at,id&birthdate=lt1974-12-25&name:contains=John'},\n",
       "  {'relation': 'first',\n",
       "   'url': 'https://demo.kodjin.com/fhir/Patient?_count=3&_sort=-inserted_at,id&birthdate=lt1974-12-25&name:contains=John'},\n",
       "  {'relation': 'next',\n",
       "   'url': 'https://demo.kodjin.com/fhir/Patient?_count=3&_sort=-inserted_at,id&birthdate=lt1974-12-25&name:contains=John&_after=9bd83609-e134-4190-85f6-83f91858a4fe'}]}"
      ]
     },
     "execution_count": 34,
     "metadata": {},
     "output_type": "execute_result"
    }
   ],
   "source": [
    "# get all patients with name John and birthdate before 1974-12-25, limit to 3 results\n",
    "sb = (\n",
    "    SearchBuilder()\n",
    "    .Patient()\n",
    "    .param(value=\"name\", modifier=\"contains\")\n",
    "    .eq(\"John\")\n",
    "    .AND()\n",
    "    .param(\"birthdate\")\n",
    "    .eq(value=\"1974-12-25\", comparator=\"lt\")\n",
    "    .AND()\n",
    "    .param(\"_count\")\n",
    "    .eq(3)\n",
    ")\n",
    "search_string = sb.build()\n",
    "\n",
    "# execute search\n",
    "client.get(resource_type=\"Patient\", search_string=search_string)"
   ]
  }
 ],
 "metadata": {
  "kernelspec": {
   "display_name": ".venv",
   "language": "python",
   "name": "python3"
  },
  "language_info": {
   "codemirror_mode": {
    "name": "ipython",
    "version": 3
   },
   "file_extension": ".py",
   "mimetype": "text/x-python",
   "name": "python",
   "nbconvert_exporter": "python",
   "pygments_lexer": "ipython3",
   "version": "3.12.0"
  }
 },
 "nbformat": 4,
 "nbformat_minor": 5
}
